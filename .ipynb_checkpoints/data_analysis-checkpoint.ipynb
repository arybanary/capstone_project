{
 "cells": [
  {
   "cell_type": "markdown",
   "metadata": {},
   "source": [
    "# Capstone Project\n",
    "This notebook is supposed to take a look at the data sued for the project."
   ]
  },
  {
   "cell_type": "code",
   "execution_count": 1,
   "metadata": {},
   "outputs": [],
   "source": [
    "import pandas as pd"
   ]
  },
  {
   "cell_type": "code",
   "execution_count": 18,
   "metadata": {},
   "outputs": [
    {
     "data": {
      "text/html": [
       "<div>\n",
       "<style scoped>\n",
       "    .dataframe tbody tr th:only-of-type {\n",
       "        vertical-align: middle;\n",
       "    }\n",
       "\n",
       "    .dataframe tbody tr th {\n",
       "        vertical-align: top;\n",
       "    }\n",
       "\n",
       "    .dataframe thead th {\n",
       "        text-align: right;\n",
       "    }\n",
       "</style>\n",
       "<table border=\"1\" class=\"dataframe\">\n",
       "  <thead>\n",
       "    <tr style=\"text-align: right;\">\n",
       "      <th></th>\n",
       "      <th>0</th>\n",
       "      <th>1</th>\n",
       "      <th>2</th>\n",
       "      <th>3</th>\n",
       "      <th>4</th>\n",
       "    </tr>\n",
       "  </thead>\n",
       "  <tbody>\n",
       "    <tr>\n",
       "      <th>0</th>\n",
       "      <td>385497381925847040</td>\n",
       "      <td>positive</td>\n",
       "      <td>16d4ea17feedebbc87d8ddf3f57c172b</td>\n",
       "      <td>[]</td>\n",
       "      <td>Not Available</td>\n",
       "    </tr>\n",
       "    <tr>\n",
       "      <th>1</th>\n",
       "      <td>364483696570945536</td>\n",
       "      <td>neutral</td>\n",
       "      <td>a6416685aa01bb28315ec81baa50639d</td>\n",
       "      <td>[]</td>\n",
       "      <td>Not Available</td>\n",
       "    </tr>\n",
       "    <tr>\n",
       "      <th>2</th>\n",
       "      <td>373606425379225600</td>\n",
       "      <td>positive</td>\n",
       "      <td>e9f93f030ab466d8aa624d1bfb33d31b</td>\n",
       "      <td>[]</td>\n",
       "      <td>Not Available</td>\n",
       "    </tr>\n",
       "    <tr>\n",
       "      <th>3</th>\n",
       "      <td>367189542857482240</td>\n",
       "      <td>neutral</td>\n",
       "      <td>c020aa23ff1f8ff985ce489b2b678674</td>\n",
       "      <td>[]</td>\n",
       "      <td>Tainted Talents (Ateliertagebuch.) » Wir sind ...</td>\n",
       "    </tr>\n",
       "    <tr>\n",
       "      <th>4</th>\n",
       "      <td>368327046574776321</td>\n",
       "      <td>neutral</td>\n",
       "      <td>0096b66e311fffcca65c23d2a310083b</td>\n",
       "      <td>[]</td>\n",
       "      <td>Aber wenigstens kommt #Supernatural heute mal ...</td>\n",
       "    </tr>\n",
       "  </tbody>\n",
       "</table>\n",
       "</div>"
      ],
      "text/plain": [
       "                    0         1                                 2   3  \\\n",
       "0  385497381925847040  positive  16d4ea17feedebbc87d8ddf3f57c172b  []   \n",
       "1  364483696570945536   neutral  a6416685aa01bb28315ec81baa50639d  []   \n",
       "2  373606425379225600  positive  e9f93f030ab466d8aa624d1bfb33d31b  []   \n",
       "3  367189542857482240   neutral  c020aa23ff1f8ff985ce489b2b678674  []   \n",
       "4  368327046574776321   neutral  0096b66e311fffcca65c23d2a310083b  []   \n",
       "\n",
       "                                                   4  \n",
       "0                                      Not Available  \n",
       "1                                      Not Available  \n",
       "2                                      Not Available  \n",
       "3  Tainted Talents (Ateliertagebuch.) » Wir sind ...  \n",
       "4  Aber wenigstens kommt #Supernatural heute mal ...  "
      ]
     },
     "execution_count": 18,
     "metadata": {},
     "output_type": "execute_result"
    }
   ],
   "source": [
    "tweets_df = pd.read_csv(\"data/downloaded.tsv\", sep=\"\\t\", header=None)\n",
    "tweets_df.head()"
   ]
  },
  {
   "cell_type": "code",
   "execution_count": 19,
   "metadata": {},
   "outputs": [
    {
     "data": {
      "text/plain": [
       "9939"
      ]
     },
     "execution_count": 19,
     "metadata": {},
     "output_type": "execute_result"
    }
   ],
   "source": [
    "len(tweets_df.index)"
   ]
  },
  {
   "cell_type": "code",
   "execution_count": 16,
   "metadata": {},
   "outputs": [
    {
     "data": {
      "text/html": [
       "<div>\n",
       "<style scoped>\n",
       "    .dataframe tbody tr th:only-of-type {\n",
       "        vertical-align: middle;\n",
       "    }\n",
       "\n",
       "    .dataframe tbody tr th {\n",
       "        vertical-align: top;\n",
       "    }\n",
       "\n",
       "    .dataframe thead th {\n",
       "        text-align: right;\n",
       "    }\n",
       "</style>\n",
       "<table border=\"1\" class=\"dataframe\">\n",
       "  <thead>\n",
       "    <tr style=\"text-align: right;\">\n",
       "      <th></th>\n",
       "      <th>0</th>\n",
       "      <th>1</th>\n",
       "      <th>2</th>\n",
       "      <th>3</th>\n",
       "      <th>4</th>\n",
       "    </tr>\n",
       "  </thead>\n",
       "  <tbody>\n",
       "    <tr>\n",
       "      <th>3</th>\n",
       "      <td>367189542857482240</td>\n",
       "      <td>neutral</td>\n",
       "      <td>c020aa23ff1f8ff985ce489b2b678674</td>\n",
       "      <td>[]</td>\n",
       "      <td>Tainted Talents (Ateliertagebuch.) » Wir sind ...</td>\n",
       "    </tr>\n",
       "    <tr>\n",
       "      <th>4</th>\n",
       "      <td>368327046574776321</td>\n",
       "      <td>neutral</td>\n",
       "      <td>0096b66e311fffcca65c23d2a310083b</td>\n",
       "      <td>[]</td>\n",
       "      <td>Aber wenigstens kommt #Supernatural heute mal ...</td>\n",
       "    </tr>\n",
       "    <tr>\n",
       "      <th>6</th>\n",
       "      <td>368309870673793024</td>\n",
       "      <td>neutral</td>\n",
       "      <td>575fd73efa41e07e2b0c360a721d19d7</td>\n",
       "      <td>[]</td>\n",
       "      <td>DARLEHEN - Angebot für Schufa-freie Darlehen: ...</td>\n",
       "    </tr>\n",
       "    <tr>\n",
       "      <th>7</th>\n",
       "      <td>362896018389475328</td>\n",
       "      <td>neutral</td>\n",
       "      <td>8b824c765a7642a980b9e14c02830126</td>\n",
       "      <td>[]</td>\n",
       "      <td>ANRUF ERWÜNSCHT: Hardcore Teeny Vicky Carrera:...</td>\n",
       "    </tr>\n",
       "    <tr>\n",
       "      <th>8</th>\n",
       "      <td>367912309303148545</td>\n",
       "      <td>neutral</td>\n",
       "      <td>a07f6bc77b0cfb06a75c7cb1a88d752b</td>\n",
       "      <td>[]</td>\n",
       "      <td>Na? Wo sind Frankens heimliche Talente? - Die ...</td>\n",
       "    </tr>\n",
       "  </tbody>\n",
       "</table>\n",
       "</div>"
      ],
      "text/plain": [
       "                    0        1                                 2   3  \\\n",
       "3  367189542857482240  neutral  c020aa23ff1f8ff985ce489b2b678674  []   \n",
       "4  368327046574776321  neutral  0096b66e311fffcca65c23d2a310083b  []   \n",
       "6  368309870673793024  neutral  575fd73efa41e07e2b0c360a721d19d7  []   \n",
       "7  362896018389475328  neutral  8b824c765a7642a980b9e14c02830126  []   \n",
       "8  367912309303148545  neutral  a07f6bc77b0cfb06a75c7cb1a88d752b  []   \n",
       "\n",
       "                                                   4  \n",
       "3  Tainted Talents (Ateliertagebuch.) » Wir sind ...  \n",
       "4  Aber wenigstens kommt #Supernatural heute mal ...  \n",
       "6  DARLEHEN - Angebot für Schufa-freie Darlehen: ...  \n",
       "7  ANRUF ERWÜNSCHT: Hardcore Teeny Vicky Carrera:...  \n",
       "8  Na? Wo sind Frankens heimliche Talente? - Die ...  "
      ]
     },
     "execution_count": 16,
     "metadata": {},
     "output_type": "execute_result"
    }
   ],
   "source": [
    "cleaned_df = tweets_df[tweets_df[4] != 'Not Available']\n",
    "cleaned_df.head()"
   ]
  },
  {
   "cell_type": "code",
   "execution_count": 17,
   "metadata": {},
   "outputs": [
    {
     "data": {
      "text/plain": [
       "6539"
      ]
     },
     "execution_count": 17,
     "metadata": {},
     "output_type": "execute_result"
    }
   ],
   "source": [
    "len(cleaned_df.index)"
   ]
  },
  {
   "cell_type": "code",
   "execution_count": null,
   "metadata": {},
   "outputs": [],
   "source": []
  }
 ],
 "metadata": {
  "kernelspec": {
   "display_name": "conda_python3",
   "language": "python",
   "name": "conda_python3"
  },
  "language_info": {
   "codemirror_mode": {
    "name": "ipython",
    "version": 3
   },
   "file_extension": ".py",
   "mimetype": "text/x-python",
   "name": "python",
   "nbconvert_exporter": "python",
   "pygments_lexer": "ipython3",
   "version": "3.6.10"
  }
 },
 "nbformat": 4,
 "nbformat_minor": 4
}
